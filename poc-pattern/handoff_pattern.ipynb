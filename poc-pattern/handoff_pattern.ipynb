{
 "cells": [
  {
   "cell_type": "markdown",
   "id": "b773c6a0",
   "metadata": {},
   "source": [
    "# Handoff Pattern in Agent Orchestration\n",
    "\n",
    "This notebook demonstrates the handoff pattern for agent orchestration using Semantic Kernel and Azure OpenAI. The handoff pattern allows tasks to be transferred between agents based on specific triggers or conditions, ensuring efficient task completion."
   ]
  },
  {
   "cell_type": "code",
   "execution_count": 3,
   "id": "bc385619",
   "metadata": {},
   "outputs": [
    {
     "name": "stdout",
     "output_type": "stream",
    }
   ],
   "source": [
    "# Install Semantic Kernel and other required libraries\n",
    "%pip install semantic-kernel\n",
    "\n",
    "# Import necessary libraries\n",
    "from semantic_kernel.agents import ChatCompletionAgent, OrchestrationHandoffs, HandoffOrchestration\n",
    "from semantic_kernel.connectors.ai.open_ai import AzureChatCompletion\n",
    "from semantic_kernel.agents.runtime import InProcessRuntime\n",
    "from semantic_kernel.contents import AuthorRole, ChatMessageContent\n",
    "from semantic_kernel.functions import kernel_function"
   ]
  },
  {
   "cell_type": "markdown",
   "id": "e98b84f7",
   "metadata": {},
   "source": [
    "**Expected Output**: Package installation messages will appear, followed by successful import confirmation. No output will be shown if all imports are successful."
   ]
  },
  {
   "cell_type": "code",
   "execution_count": null,
   "id": "defc65f4",
   "metadata": {},
   "outputs": [],
   "source": [
    "# Define plugins for specific tasks\n",
    "\n",
    "class OrderStatusPlugin:\n",
    "    @kernel_function\n",
    "    def check_order_status(self, order_id: str) -> str:\n",
    "        \"\"\"Check the status of an order.\"\"\"\n",
    "        return f\"Order {order_id} is shipped and will arrive in 2-3 days.\"\n",
    "\n",
    "class OrderRefundPlugin:\n",
    "    @kernel_function\n",
    "    def process_refund(self, order_id: str, reason: str) -> str:\n",
    "        \"\"\"Process a refund for an order.\"\"\"\n",
    "        print(f\"Processing refund for order {order_id} due to: {reason}\")\n",
    "        return f\"Refund for order {order_id} has been processed successfully.\"\n",
    "\n",
    "class OrderReturnPlugin:\n",
    "    @kernel_function\n",
    "    def process_return(self, order_id: str, reason: str) -> str:\n",
    "        \"\"\"Process a return for an order.\"\"\"\n",
    "        print(f\"Processing return for order {order_id} due to: {reason}\")\n",
    "        return f\"Return for order {order_id} has been processed successfully.\"\n",
    "\n",
    "# Configure Azure OpenAI service\n",
    "api_key = \"**\"\n",
    "endpoint = \"***\"\n",
    "deployment_name = \"****\"\n",
    "\n",
    "openai_service = AzureChatCompletion(\n",
    "    api_key=\"YOUR_AZURE_OPENAI_API_KEY\",\n",
    "    endpoint=\"YOUR_AZURE_OPENAI_ENDPOINT\",\n",
    "    deployment_name=\"YOUR_DEPLOYMENT_NAME\"\n",
    ")\n",
    "\n",
    "# Define specialized agents\n",
    "support_agent = ChatCompletionAgent(\n",
    "    name=\"TriageAgent\",\n",
    "    description=\"A customer support agent that triages issues.\",\n",
    "    instructions=\"Handle customer requests and route them to appropriate specialists.\",\n",
    "    service=openai_service,\n",
    ")\n",
    "\n",
    "refund_agent = ChatCompletionAgent(\n",
    "    name=\"RefundAgent\",\n",
    "    description=\"A customer support agent that handles refunds.\",\n",
    "    instructions=\"Handle refund requests and process refunds.\",\n",
    "    service=openai_service,\n",
    "    plugins=[OrderRefundPlugin()],\n",
    ")\n",
    "\n",
    "order_status_agent = ChatCompletionAgent(\n",
    "    name=\"OrderStatusAgent\",\n",
    "    description=\"A customer support agent that checks order status.\",\n",
    "    instructions=\"Handle order status requests and provide tracking information.\",\n",
    "    service=openai_service,\n",
    "    plugins=[OrderStatusPlugin()],\n",
    ")\n",
    "\n",
    "order_return_agent = ChatCompletionAgent(\n",
    "    name=\"OrderReturnAgent\",\n",
    "    description=\"A customer support agent that handles order returns.\",\n",
    "    instructions=\"Handle order return requests and process returns.\",\n",
    "    service=openai_service,\n",
    "    plugins=[OrderReturnPlugin()],\n",
    ")"
   ]
  },
  {
   "cell_type": "markdown",
   "id": "db73b759",
   "metadata": {},
   "source": [
    "**Expected Output**: No output will be displayed as this cell only defines the plugin classes and functions. These will be used by agents later in the handoff orchestration."
   ]
  },
  {
   "cell_type": "code",
   "execution_count": 5,
   "id": "0606fc28",
   "metadata": {},
   "outputs": [],
   "source": [
    "# Define handoff relationships between agents\n",
    "\n",
    "handoffs = (\n",
    "    OrchestrationHandoffs()\n",
    "    .add_many(  # Add multiple handoffs from the triage agent\n",
    "        source_agent=support_agent.name,\n",
    "        target_agents={\n",
    "            refund_agent.name: \"Transfer to this agent if the issue is refund related\",\n",
    "            order_status_agent.name: \"Transfer to this agent if the issue is order status related\",\n",
    "            order_return_agent.name: \"Transfer to this agent if the issue is order return related\",\n",
    "        },\n",
    "    )\n",
    "    .add(  # Add individual handoffs back to triage agent\n",
    "        source_agent=refund_agent.name,\n",
    "        target_agent=support_agent.name,\n",
    "        description=\"Transfer to this agent if the issue is not refund related\",\n",
    "    )\n",
    "    .add(\n",
    "        source_agent=order_status_agent.name,\n",
    "        target_agent=support_agent.name,\n",
    "        description=\"Transfer to this agent if the issue is not order status related\",\n",
    "    )\n",
    "    .add(\n",
    "        source_agent=order_return_agent.name,\n",
    "        target_agent=support_agent.name,\n",
    "        description=\"Transfer to this agent if the issue is not order return related\",\n",
    "    )\n",
    ")\n",
    "\n",
    "# Define callback function to observe agent responses\n",
    "def agent_response_callback(message: ChatMessageContent) -> None:\n",
    "    print(f\"{message.name}: {message.content}\")\n",
    "\n",
    "# Define human response function for interactive input\n",
    "def human_response_function() -> ChatMessageContent:\n",
    "    user_input = input(\"User: \")\n",
    "    return ChatMessageContent(role=AuthorRole.USER, content=user_input)"
   ]
  },
  {
   "cell_type": "markdown",
   "id": "81edc3ad",
   "metadata": {},
   "source": [
    "**Expected Output**: No output will be displayed as this cell creates the agent instances. The agents are now ready to be used in the handoff orchestration system."
   ]
  },
  {
   "cell_type": "code",
   "execution_count": 6,
   "id": "ea40dd1d",
   "metadata": {},
   "outputs": [
    {
     "name": "stdout",
     "output_type": "stream",
     "text": [
      "Handoff orchestration setup complete!\n"
     ]
    },
    {
     "name": "stdout",
     "output_type": "stream",
     "text": [
      "TriageAgent: Hello! You've reached the Triage Agent. How can I assist you today?\n",
      "OrderStatusAgent: Hello! You've reached the Order Status Agent. Could you please provide me with the order ID so I can check the status for you?\n",
      "OrderStatusAgent: Your order with ID 3456789 has been shipped and is expected to arrive in 2–3 days. Is there anything else I can assist you with?\n"
     ]
    }
   ],
   "source": [
    "# Set up the handoff orchestration\n",
    "\n",
    "handoff_orchestration = HandoffOrchestration(\n",
    "    members=[\n",
    "        support_agent,\n",
    "        refund_agent,\n",
    "        order_status_agent,\n",
    "        order_return_agent,\n",
    "    ],\n",
    "    handoffs=handoffs,\n",
    "    agent_response_callback=agent_response_callback,\n",
    "    human_response_function=human_response_function,\n",
    ")\n",
    "\n",
    "# Start the runtime\n",
    "runtime = InProcessRuntime()\n",
    "runtime.start()\n",
    "\n",
    "print(\"Handoff orchestration setup complete!\")"
   ]
  },
  {
   "cell_type": "markdown",
   "id": "ddc9fed8",
   "metadata": {},
   "source": [
    "**Expected Output**: Confirmation messages showing that the handoff orchestration is configured and the runtime is started. You'll see status messages about the setup being complete."
   ]
  },
  {
   "cell_type": "code",
   "execution_count": null,
   "id": "e33a3c24",
   "metadata": {},
   "outputs": [
    {
     "name": "stdout",
     "output_type": "stream",
     "text": [
      "Starting handoff orchestration...\n",
      "You can interact with the agents by typing your requests.\n",
      "Try asking about order status, refunds, or returns!\n"
     ]
    }
   ],
   "source": [
    "# Execute the handoff orchestration\n",
    "\n",
    "print(\"Starting handoff orchestration...\")\n",
    "print(\"You can interact with the agents by typing your requests.\")\n",
    "print(\"Try asking about order status, refunds, or returns!\")\n",
    "\n",
    "# Invoke the orchestration with initial task\n",
    "orchestration_result = await handoff_orchestration.invoke(\n",
    "    task=\"A customer is on the line.\",\n",
    "    runtime=runtime,\n",
    ")\n",
    "\n",
    "# Get the final result\n",
    "value = await orchestration_result.get()\n",
    "print(f\"\\nFinal Result: {value}\")\n",
    "\n",
    "# Stop the runtime when done\n",
    "await runtime.stop_when_idle()\n",
    "print(\"Orchestration completed!\")"
   ]
  },
  {
   "cell_type": "markdown",
   "id": "9799881f",
   "metadata": {},
   "source": [
    "**Expected Output**: The handoff orchestration will execute, showing the task being processed and how control is transferred between different agents based on the task requirements. You'll see the conversation flow and agent responses."
   ]
  },
  {
   "cell_type": "markdown",
   "id": "b2d603fd",
   "metadata": {},
   "source": [
    "## Simulated Conversation Example\n",
    "\n",
    "For demonstration purposes, here's how you can simulate a conversation with predefined responses instead of interactive input:"
   ]
  },
  {
   "cell_type": "code",
   "execution_count": null,
   "id": "436b62f3",
   "metadata": {},
   "outputs": [],
   "source": [
    "# Alternative: Simulated conversation with predefined responses\n",
    "from collections import deque\n",
    "\n",
    "# Simulate user input with a queue of responses\n",
    "responses = deque([\n",
    "    \"I'd like to track the status of my order\",\n",
    "    \"My order ID is 123\", \n",
    "    \"I want to return another order of mine\",\n",
    "    \"Order ID 321\",\n",
    "    \"Broken item\",\n",
    "    \"No, bye\"\n",
    "])\n",
    "\n",
    "def simulated_human_response_function() -> ChatMessageContent:\n",
    "    if responses:\n",
    "        user_input = responses.popleft()\n",
    "        print(f\"User: {user_input}\")\n",
    "        return ChatMessageContent(role=AuthorRole.USER, content=user_input)\n",
    "    else:\n",
    "        return ChatMessageContent(role=AuthorRole.USER, content=\"No, bye\")\n",
    "\n",
    "# Create orchestration with simulated responses\n",
    "simulated_orchestration = HandoffOrchestration(\n",
    "    members=[\n",
    "        support_agent,\n",
    "        refund_agent, \n",
    "        order_status_agent,\n",
    "        order_return_agent,\n",
    "    ],\n",
    "    handoffs=handoffs,\n",
    "    agent_response_callback=agent_response_callback,\n",
    "    human_response_function=simulated_human_response_function,\n",
    ")\n",
    "\n",
    "# Run the simulated conversation\n",
    "print(\"\\n=== Simulated Handoff Conversation ===\")\n",
    "orchestration_result = await simulated_orchestration.invoke(\n",
    "    task=\"A customer is on the line.\",\n",
    "    runtime=runtime,\n",
    ")\n",
    "\n",
    "# Get the final result\n",
    "value = await orchestration_result.get()\n",
    "print(f\"\\nTask completed with summary: {value}\")"
   ]
  },
  {
   "cell_type": "markdown",
   "id": "d09235be",
   "metadata": {},
   "source": [
    "**Expected Output**: Results from the alternative conversation simulation, showing predefined responses demonstrating how the handoff pattern works with different types of queries and agent transitions."
   ]
  }
 ],
 "metadata": {
  "kernelspec": {
   "display_name": "Python 3",
   "language": "python",
   "name": "python3"
  },
  "language_info": {
   "codemirror_mode": {
    "name": "ipython",
    "version": 3
   },
   "file_extension": ".py",
   "mimetype": "text/x-python",
   "name": "python",
   "nbconvert_exporter": "python",
   "pygments_lexer": "ipython3",
   "version": "3.13.5"
  }
 },
 "nbformat": 4,
 "nbformat_minor": 5
}
