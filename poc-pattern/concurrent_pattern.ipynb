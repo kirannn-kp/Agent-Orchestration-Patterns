{
 "cells": [
  {
   "cell_type": "markdown",
   "id": "7e2e0b71",
   "metadata": {},
   "source": [
    "# Concurrent Orchestration Pattern with Semantic Kernel Agents\n",
    "\n",
    "This notebook demonstrates the concurrent orchestration pattern using Semantic Kernel agents. Concurrent orchestration is a design approach where multiple agents execute tasks simultaneously, enabling efficient handling of complex workflows. By leveraging Azure OpenAI services, these agents can provide intelligent and context-aware responses.\n",
    "\n",
    "### Key Features of Concurrent Orchestration:\n",
    "- **Parallel Execution**: Agents work independently on their assigned tasks, reducing overall execution time.\n",
    "- **Task Specialization**: Each agent is configured with specific expertise, ensuring high-quality outputs.\n",
    "- **Error Handling**: Robust mechanisms are implemented to manage initialization and runtime errors.\n",
    "- **Concise Responses**: Agents are instructed to provide brief, two-sentence answers for clarity and focus.\n",
    "\n",
    "### Examples in This Notebook:\n",
    "1. **Scientific Question**: \"What is temperature?\" - Agents collaborate to provide concise answers from different scientific perspectives.\n",
    "2. **Practical Task**: \"How to chop vegetables efficiently and safely?\" - Agents offer practical advice on knife skills and safety measures.\n",
    "\n",
    "The notebook utilizes `ConcurrentOrchestration`, `ChatCompletionAgent`, and `InProcessRuntime` to manage and execute tasks concurrently, showcasing the power and flexibility of Semantic Kernel.\n",
    "\n",
    "We will:\n",
    "1. Define agents for cooking tasks.\n",
    "2. Set up concurrent orchestration.\n",
    "3. Invoke the orchestration and collect results."
   ]
  },
  {
   "cell_type": "code",
   "execution_count": 1,
   "id": "817c0306",
   "metadata": {},
   "outputs": [],
   "source": [
    "# Import Required Libraries\n",
    "from semantic_kernel.agents import ChatCompletionAgent, ConcurrentOrchestration\n",
    "from semantic_kernel.agents.runtime import InProcessRuntime"
   ]
  },
  {
   "cell_type": "markdown",
   "id": "0d0ff641",
   "metadata": {},
   "source": [
    "**Expected Output**: Package installation messages followed by successful import confirmation. No output if imports are successful."
   ]
  },
  {
   "cell_type": "code",
   "execution_count": null,
   "id": "ce9bc051",
   "metadata": {},
   "outputs": [
    {
     "name": "stdout",
     "output_type": "stream",
     "text": [
      "# SafetyExpert: To chop vegetables efficiently and safely, always use a sharp knife and a stable cutting board to prevent slipping. Keep your fingertips tucked under (using a \"claw grip\") to protect them from the blade and work at a steady, controlled pace.\n",
      "# KnifeSkillsExpert: To chop vegetables efficiently and safely, use a sharp knife and employ the \"claw grip,\" tucking your fingertips under while holding the vegetable to protect them. Keep the knife tip on the cutting surface while using smooth rocking motions, and ensure a stable cutting board to prevent slipping.\n"
     ]
    }
   ],
   "source": [
    "from semantic_kernel.connectors.ai.open_ai import AzureChatCompletion\n",
    "\n",
    "# Define Agents for Chopping Vegetables\n",
    "azure_service = AzureChatCompletion(\n",
    "    api_key=\"YOUR_AZURE_OPENAI_API_KEY\",\n",
    "    endpoint=\"YOUR_AZURE_OPENAI_ENDPOINT\",\n",
    "    deployment_name=\"YOUR_DEPLOYMENT_NAME\"\n",
    ")\n",
    "\n",
    "knife_skills_agent = ChatCompletionAgent(\n",
    "    name=\"KnifeSkillsExpert\",\n",
    "    instructions=\"Provide a concise explanation of the best techniques for chopping vegetables in 2 sentences.\",\n",
    "    service=azure_service\n",
    ")\n",
    "\n",
    "safety_agent = ChatCompletionAgent(\n",
    "    name=\"SafetyExpert\",\n",
    "    instructions=\"Provide a concise explanation of safety tips for chopping vegetables in 2 sentences.\",\n",
    "    service=azure_service\n",
    ")\n",
    "\n",
    "# Set Up Concurrent Orchestration\n",
    "agents = [knife_skills_agent, safety_agent]\n",
    "concurrent_orchestration = ConcurrentOrchestration(members=agents)\n",
    "\n",
    "# Start the Runtime\n",
    "runtime = InProcessRuntime()\n",
    "runtime.start()\n",
    "\n",
    "# Invoke the Orchestration and Collect Results\n",
    "try:\n",
    "    orchestration_result = await concurrent_orchestration.invoke(\n",
    "        task=\"How to chop vegetables efficiently and safely?\",\n",
    "        runtime=runtime\n",
    "    )\n",
    "\n",
    "    # Collect results\n",
    "    value = await orchestration_result.get(timeout=30)\n",
    "    for item in value:\n",
    "        print(f\"# {item.name}: {item.content}\")  # Access attributes directly\n",
    "except Exception as e:\n",
    "    print(f\"Error during orchestration: {e}\")\n",
    "finally:\n",
    "    # Stop the runtime\n",
    "    await runtime.stop_when_idle()"
   ]
  },
  {
   "cell_type": "markdown",
   "id": "41fd7425",
   "metadata": {},
   "source": [
    "**Expected Output**: Messages showing successful creation of cooking expert agents, orchestration setup, and runtime initialization. You'll see confirmation that the concurrent system is ready."
   ]
  },
  {
   "cell_type": "code",
   "execution_count": null,
   "id": "5fb990c3",
   "metadata": {},
   "outputs": [
    {
     "name": "stdout",
     "output_type": "stream",
     "text": [
      "# ChemistryExpert: From a chemistry perspective, temperature is a measure of the average kinetic energy of the particles in a substance. It reflects how fast the particles (atoms or molecules) are moving or vibrating, influencing reaction rates and phase changes.\n",
      "# PhysicsExpert: In physics, temperature is a measure of the average kinetic energy of the particles in a substance, representing how fast the particles are moving or vibrating. It determines the direction of heat transfer, flowing from higher to lower temperature regions.\n"
     ]
    }
   ],
   "source": [
    "# Import Required Libraries\n",
    "from semantic_kernel.agents import ChatCompletionAgent, ConcurrentOrchestration\n",
    "from semantic_kernel.agents.runtime import InProcessRuntime\n",
    "from semantic_kernel.connectors.ai.open_ai import AzureChatCompletion\n",
    "import time\n",
    "\n",
    "def get_agents():\n",
    "    try:\n",
    "        # Azure OpenAI service configuration\n",
    "        azure_service = AzureChatCompletion(\n",
    "            api_key=\"YOUR_AZURE_OPENAI_API_KEY\",\n",
    "            endpoint=\"YOUR_AZURE_OPENAI_ENDPOINT\",\n",
    "            deployment_name=\"YOUR_DEPLOYMENT_NAME\"\n",
    "        )\n",
    "\n",
    "        physics_agent = ChatCompletionAgent(\n",
    "            name=\"PhysicsExpert\",\n",
    "            instructions=\"Provide a concise explanation of temperature from a physics perspective in 2 sentences.\",\n",
    "            service=azure_service\n",
    "        )\n",
    "\n",
    "        chemistry_agent = ChatCompletionAgent(\n",
    "            name=\"ChemistryExpert\",\n",
    "            instructions=\"Provide a concise explanation of temperature from a chemistry perspective in 2 sentences.\",\n",
    "            service=azure_service\n",
    "        )\n",
    "\n",
    "        return [physics_agent, chemistry_agent]\n",
    "\n",
    "    except Exception as e:\n",
    "        print(f\"Error initializing agents: {e}\")\n",
    "        print(\"Retrying in 5 seconds...\")\n",
    "        time.sleep(5)\n",
    "        return get_agents()\n",
    "\n",
    "agents = get_agents()  \n",
    "concurrent_orchestration = ConcurrentOrchestration(members=agents)\n",
    "\n",
    "# Start the runtime\n",
    "runtime = InProcessRuntime()\n",
    "runtime.start()\n",
    "\n",
    "# Invoke the Orchestration and Collect Results\n",
    "try:\n",
    "    orchestration_result = await concurrent_orchestration.invoke(\n",
    "        task=\"What is temperature?\",\n",
    "        runtime=runtime\n",
    "    )\n",
    "\n",
    "    # Collect results\n",
    "    value = await orchestration_result.get(timeout=30)\n",
    "    for item in value:\n",
    "        print(f\"# {item.name}: {item.content}\")  # Access attributes directly\n",
    "except Exception as e:\n",
    "    print(f\"Error during orchestration: {e}\")\n",
    "finally:\n",
    "    # Stop the runtime\n",
    "    await runtime.stop_when_idle()"
   ]
  },
  {
   "cell_type": "markdown",
   "id": "e18e6edc",
   "metadata": {},
   "source": [
    "**Expected Output**: Results from both agents working simultaneously on the same task. You'll see responses from multiple expert agents (like PhysicsExpert and ChemistryExpert) providing their perspectives concurrently, demonstrating parallel processing."
   ]
  }
 ],
 "metadata": {
  "kernelspec": {
   "display_name": "Python 3",
   "language": "python",
   "name": "python3"
  },
  "language_info": {
   "codemirror_mode": {
    "name": "ipython",
    "version": 3
   },
   "file_extension": ".py",
   "mimetype": "text/x-python",
   "name": "python",
   "nbconvert_exporter": "python",
   "pygments_lexer": "ipython3",
   "version": "undefined.undefined.undefined"
  }
 },
 "nbformat": 4,
 "nbformat_minor": 5
}
