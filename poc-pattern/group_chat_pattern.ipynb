{
 "cells": [
  {
   "cell_type": "markdown",
   "id": "d2471e08",
   "metadata": {},
   "source": [
    "# Group Chat Orchestration Pattern with Semantic Kernel\n",
    "\n",
    "This notebook demonstrates the Group Chat Orchestration pattern using Microsoft Semantic Kernel in Python. Group chat orchestration involves multiple agents collaborating simultaneously on a shared task, leveraging Azure OpenAI services for intelligent responses.\n",
    "\n",
    "### Key Features:\n",
    "- **Collaborative Execution**: Agents work together in real-time to address a shared task.\n",
    "- **Task Specialization**: Each agent contributes based on its expertise.\n",
    "- **Dynamic Interaction**: Agents can respond to each other's outputs, creating a dynamic and interactive workflow.\n",
    "\n",
    "### Example:\n",
    "**Scientific Discussion**: Multiple agents (PhysicsExpert, ChemistryExpert, and BiologyExpert) collaborate to answer the question \"What is the impact of temperature on living organisms?\".\n",
    "\n",
    "The notebook utilizes `GroupChatOrchestration` and Semantic Kernel's agent orchestration framework to manage and execute tasks collaboratively, showcasing the power and flexibility of Semantic Kernel."
   ]
  },
  {
   "cell_type": "code",
   "execution_count": null,
   "id": "575f333d",
   "metadata": {},
   "outputs": [],
   "source": [
    "# Import required libraries\n",
    "from semantic_kernel.agents import ChatCompletionAgent\n",
    "from semantic_kernel.connectors.ai.open_ai import AzureChatCompletion\n",
    "from semantic_kernel.agents.orchestration.group_chat import GroupChatOrchestration\n",
    "from semantic_kernel.agents.runtime import InProcessRuntime\n",
    "\n",
    "# Azure OpenAI configuration\n",
    "api_key = \"YOUR_AZURE_OPENAI_API_KEY\"\n",
    "endpoint = \"https://YOUR_RESOURCE_NAME.openai.azure.com/\"\n",
    "deployment_name = \"YOUR_DEPLOYMENT_NAME\"\n",
    "\n",
    "# Initialize Azure OpenAI service\n",
    "openai_service = AzureChatCompletion(api_key=api_key, endpoint=endpoint, deployment_name=deployment_name)"
   ]
  },
  {
   "cell_type": "markdown",
   "id": "60675ef0",
   "metadata": {},
   "source": [
    "**Expected Output**: Package installation messages, successful imports, and Azure OpenAI service configuration confirmation."
   ]
  },
  {
   "cell_type": "code",
   "execution_count": 2,
   "id": "7abb1293",
   "metadata": {},
   "outputs": [],
   "source": [
    "# Define agents with descriptions\n",
    "physics_agent = ChatCompletionAgent(\n",
    "    name=\"PhysicsExpert\",\n",
    "    description=\"An expert in physics, focusing on the impact of temperature on physical systems.\",\n",
    "    instructions=\"You are a physics expert. Explain the impact of temperature on physical systems, such as the behavior of gases and solids.\",\n",
    "    service=openai_service,\n",
    ")\n",
    "\n",
    "chemistry_agent = ChatCompletionAgent(\n",
    "    name=\"ChemistryExpert\",\n",
    "    description=\"An expert in chemistry, specializing in temperature effects on chemical reactions.\",\n",
    "    instructions=\"You are a chemistry expert. Discuss how temperature affects chemical reactions and molecular stability.\",\n",
    "    service=openai_service,\n",
    ")\n",
    "\n",
    "biology_agent = ChatCompletionAgent(\n",
    "    name=\"BiologyExpert\",\n",
    "    description=\"An expert in biology, analyzing temperature effects on living organisms.\",\n",
    "    instructions=\"You are a biology expert. Describe the effects of temperature on living organisms, including metabolism and survival.\",\n",
    "    service=openai_service,\n",
    ")\n",
    "\n",
    "agents = [physics_agent, chemistry_agent, biology_agent]"
   ]
  },
  {
   "cell_type": "markdown",
   "id": "797039f3",
   "metadata": {},
   "source": [
    "**Expected Output**: Confirmation messages showing that the scientific expert agents (Physics, Chemistry, Biology) have been created and the group chat orchestration is configured."
   ]
  },
  {
   "cell_type": "code",
   "execution_count": null,
   "id": "a822fb6d",
   "metadata": {},
   "outputs": [],
   "source": [
    "# Set up group chat orchestration\n",
    "from semantic_kernel.agents import RoundRobinGroupChatManager\n",
    "import asyncio\n",
    "import traceback\n",
    "\n",
    "runtime = InProcessRuntime()\n",
    "manager = RoundRobinGroupChatManager(max_rounds=5)  # Use a round-robin manager for the group chat\n",
    "# Ensure all agents have descriptions\n",
    "for agent in agents:\n",
    "    if not agent.description:\n",
    "        raise ValueError(f\"Agent {agent.name} must have a description.\")\n",
    "\n",
    "group_chat_orchestration = GroupChatOrchestration(members=agents, manager=manager)\n",
    "\n",
    "# Start runtime\n",
    "runtime.start()\n",
    "\n",
    "# Execute group chat orchestration\n",
    "try:\n",
    "    print(\"Starting group chat orchestration...\")\n",
    "    orchestration_result = await group_chat_orchestration.invoke(\n",
    "        task=\"What is the impact of temperature on living organisms?\",\n",
    "        runtime=runtime,\n",
    "    )\n",
    "\n",
    "    # Collect results\n",
    "    print(\"Waiting for orchestration result...\")\n",
    "    value = await orchestration_result.get(timeout=300)  # Increased timeout to 300 seconds\n",
    "    print(\"***** Group Chat Results *****\")\n",
    "    for agent_result in value:\n",
    "        try:\n",
    "            if isinstance(agent_result, tuple):\n",
    "                name, content = agent_result  # Unpack tuple\n",
    "                print(f\"{name}: {content}\")\n",
    "            else:\n",
    "                print(f\"Unknown Agent: {agent_result}\")\n",
    "        except Exception as e:\n",
    "            print(f\"Error processing agent result: {e}\")\n",
    "except asyncio.TimeoutError:\n",
    "    print(\"The orchestration timed out. Consider increasing the timeout or debugging agent execution.\")\n",
    "except Exception as e:\n",
    "    print(\"An error occurred during orchestration:\")\n",
    "    print(traceback.format_exc())\n",
    "\n",
    "# Stop runtime\n",
    "await runtime.stop_when_idle()"
   ]
  },
  {
   "cell_type": "markdown",
   "id": "e0ca2317",
   "metadata": {},
   "source": [
    "**Expected Output**: A multi-turn conversation between the expert agents discussing the impact of temperature on living organisms. You'll see each agent contributing their expertise in a collaborative discussion format, with agents building on each other's insights."
   ]
  }
 ],
 "metadata": {
  "kernelspec": {
   "display_name": "Python 3",
   "language": "python",
   "name": "python3"
  },
  "language_info": {
   "codemirror_mode": {
    "name": "ipython",
    "version": 3
   },
   "file_extension": ".py",
   "mimetype": "text/x-python",
   "name": "python",
   "nbconvert_exporter": "python",
   "pygments_lexer": "ipython3",
   "version": "3.13.5"
  }
 },
 "nbformat": 4,
 "nbformat_minor": 5
}
